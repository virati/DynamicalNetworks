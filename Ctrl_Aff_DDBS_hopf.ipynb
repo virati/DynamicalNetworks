{
 "cells": [
  {
   "cell_type": "markdown",
   "metadata": {},
   "source": [
    "# Control-Affine Depression DBS: Starting with Hopf\n",
    "\n",
    "## Overview\n",
    "\n",
    "In this notebook I cover a bit of background about the Hopf bifurcation, generalize a few example Hopf systems to the normal form, and then talk a bit about the first steps towards a simple network model with Hopf regions.\n",
    "\n",
    "Next in the series will be a high-level outline of control-affine systems and how I'll be shoehorning/projecting Depression DBS into that problem class through Hopf dynamics.\n",
    "\n",
    "## Hopf bifurcation\n",
    "\n",
    "The Hopf bifurcation is a particularly interesting bifurcation because it links individual critical points to limit cycles. This is far from a satisfactory formal definition but it'll do for the focus of this notebook. [Others treat the topic with more justice.]()\n",
    "\n",
    "### Example system 1 (ES1)\n",
    "\n",
    "The first example system we'll deal with comes from [1]().\n",
    "\n",
    "\\begin{equation}\n",
    "\n",
    "\\end{equation}\n",
    "\n",
    "\n",
    "### Generalized system (GS)\n",
    "\n",
    "This system comes from [2](). Here, we generalize the system in polar coordinates.\n",
    "\n",
    "\\begin{equation}\n",
    "\\dot{r} = c(b)r + ar^3, \\; r, c, b, a \\in \\mathbb{R} \\\\ \\dot{\\theta} = \\omega(b) + \\gamma r^2,    \\theta, \\omega, \\gamma \\in \\mathbb{R}\n",
    "\\end{equation}\n",
    "\n",
    "### Bridging the two systems\n",
    "\n",
    "I wanted to link the two because, well, it's important to make sure we're talking about what we think we are. And being able to link the decoupled system in ES1 to GS enables us to infer a bit more about general Hopf systems. We'll need that inference to build up a meaningful network of brain regions for our control-affine Depression DBS system.\n",
    "\n",
    "\n",
    "Ultimately, we get the complex equation in $z \\in \\mathbb{C}$.\n",
    "\n",
    "\\begin{equation}\n",
    "\\dot{z} = z(c + a |z|^2 + \\omega j + \\gamma j |z|^2)\n",
    "\\end{equation}\n",
    "\n",
    "Which demonstrates the differences between the model used in Deco 2017 and the generalized version we'll be starting from.\n",
    "\n",
    "## Hopf network\n",
    "We'll just start with a simple two node network for now. Future notebooks will extend this forward into generalized networks with connectivity\n",
    "\n",
    "### Two node\n",
    "\n",
    "We start with a network $D = \\{N,V\\}$ where $N = \\{n_1, n_2,...,n_k\\}$ is a set of nodes and $V = \\{(n_i,n_j)\\}$ is set of unordered pairs representing edges between $n_i$ and $n_j$.\n",
    "\n",
    "The associated *Laplacian* and *incidence matrix* will be used. The incidence matrix will be assumed to be sparse.\n",
    "\n",
    "In this example, with two nodes, we have a pretty simple network structure:\n",
    "\n",
    "Let's see what this looks like"
   ]
  },
  {
   "cell_type": "code",
   "execution_count": 7,
   "metadata": {},
   "outputs": [
    {
     "data": {
      "image/png": "[encoded data removed]",
      "text/plain": [
       "<Figure size 432x288 with 1 Axes>"
      ]
     },
     "metadata": {},
     "output_type": "display_data"
    }
   ],
   "source": [
    "import networkx as nx\n",
    "import matplotlib.pyplot as plt\n",
    "\n",
    "G = nx.Graph()\n",
    "G.add_edge(0,1)\n",
    "nx.draw(G,pos=nx.spring_layout(G))\n",
    "plt.show()"
   ]
  },
  {
   "cell_type": "markdown",
   "metadata": {},
   "source": [
    "Pretty boring. But, we're going to set each node to be a hopf system. So, we'll go from two nodes to two nodes with richer *structure*.\n",
    "\n",
    "So we've got two nodes $N = \\{n_1,n_2\\}$ where each node $n_i$ has a state $x_i \\in \\mathbb{C}$\n",
    "\n",
    "Here, we refer back to our normal form, giving us\n",
    "\n",
    "\\begin{equation}\n",
    "\\dot{x}_i = x_i(c + a|x_i|^2 + \\omega j + \\gamma j |x_i|^2)\n",
    "\\end{equation}\n",
    "\n",
    "## Coupling our network\n",
    "\n",
    "Now, how do our nodes actually *couple*? How does the activity, or state, of one node affect the other?\n",
    "\n",
    "Just for funzies, we're going to have the state of $x_1$ affect the bifurcation of $x_2$ and vice versa.\n",
    "\n",
    "\\begin{equation}\n",
    "\\dot{x}_1 = x_1(f(x_2) + a|x_1|^2 + \\omega j + \\gamma j |x_1|^2) \\\\ \n",
    "\\dot{x}_2 = x_2(f(x_1) + a|x_2|^2 + \\omega j + \\gamma j |x_2|^2)\n",
    "\\end{equation}\n",
    "\n",
    "We're going to spend a second studying this system briefly, and return to it in more detail in the next notebook."
   ]
  }
 ],
 "metadata": {
  "kernelspec": {
   "display_name": "Python 3",
   "language": "python",
   "name": "python3"
  },
  "language_info": {
   "codemirror_mode": {
    "name": "ipython",
    "version": 3
   },
   "file_extension": ".py",
   "mimetype": "text/x-python",
   "name": "python",
   "nbconvert_exporter": "python",
   "pygments_lexer": "ipython3",
   "version": "3.6.5"
  }
 },
 "nbformat": 4,
 "nbformat_minor": 2
}
