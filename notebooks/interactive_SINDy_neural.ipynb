{
 "cells": [
  {
   "cell_type": "markdown",
   "metadata": {},
   "source": [
    "# SINDy for neural inference\n",
    "## Examples in Basic Neural Dynamics\n",
    "\n",
    "### Introduction\n",
    "In this notebook we'll demonstrate the utility of the SINDy autoencoder ([Champion et al]()) in estimating dynamics.\n",
    "We'll focus on a simple model of neural activity, the the Lorenz System (Eq 1) in this notebook just to demonstrate what SINDy is before moving to a more neuroscience-congruent dynamics.\n",
    "\n",
    "### Model\n",
    "We start with the general form of the\n",
    "\n",
    "$$\n",
    "\\begin{aligned}\n",
    "\\dot{x} & = \\sigma(y-x) \\\\\n",
    "\\dot{y} & = \\rho x - y - xz \\\\\n",
    "\\dot{z} & = -\\beta z + xy\n",
    "\\end{aligned}\n",
    "$$\n",
    "\n",
    "Our parameters of interest are: (\\\\(\\sigma\\\\), \\\\(\\beta\\\\), \\\\(\\rho\\\\))"
   ]
  },
  {
   "cell_type": "markdown",
   "metadata": {},
   "source": [
    "#### Imports"
   ]
  },
  {
   "cell_type": "code",
   "execution_count": 199,
   "metadata": {
    "jupyter": {
     "source_hidden": true
    }
   },
   "outputs": [],
   "source": [
    "import sys\n",
    "sys.path.append(\"../../src\")\n",
    "import os\n",
    "import numpy as np\n",
    "import pickle\n",
    "import pandas as pd\n",
    "\n",
    "from scipy import integrate\n",
    "\n",
    "# Import our basic plotting libraries\n",
    "import matplotlib.pyplot as plt\n",
    "from mpl_toolkits.mplot3d import Axes3D\n",
    "from matplotlib.colors import cnames\n",
    "from matplotlib import animation\n",
    "\n",
    "# Import our jupyter widgets\n",
    "from ipywidgets import interact, interactive, fixed\n",
    "from IPython.display import clear_output, display, HTML\n",
    "\n",
    "import pysindy as ps\n",
    "\n",
    "from scipy.integrate import odeint\n",
    "from sklearn.linear_model import Lasso\n",
    "\n",
    "%matplotlib inline"
   ]
  },
  {
   "cell_type": "code",
   "execution_count": 200,
   "metadata": {},
   "outputs": [],
   "source": [
    "'''Solve method just for the ipywidget display'''\n",
    "def solve_lorenz(N=10, angle=0.0, max_time=4.0, sigma=10.0, beta=8./3, rho=28.0):\n",
    "\n",
    "    def lorenz_deriv(x_y_z, t0, sigma=sigma, beta=beta, rho=rho,k=10):\n",
    "        \"\"\"Compute the time-derivative of a Lorenz system.\"\"\"\n",
    "        x, y, z = x_y_z\n",
    "        return [sigma*x - y - x * (x**2 + y**2), \n",
    "                beta*y + x - y*(x**2 + y**2), \n",
    "                -rho*z]\n",
    "\n",
    "    # Choose random starting points, uniformly distributed from -15 to 15\n",
    "    np.random.seed(1)\n",
    "    x0 = -15 + 30 * np.random.random((N, 3))\n",
    "\n",
    "    # Solve for the trajectories\n",
    "    t = np.linspace(0, max_time, int(250*max_time))\n",
    "    x_t = np.asarray([integrate.odeint(lorenz_deriv, x0i, t)\n",
    "                      for x0i in x0])\n",
    "    \n",
    "    return t, x_t\n",
    "\n",
    "'''Plot widget for the ipywidget display'''\n",
    "def plot_lorenz(N=10, angle=0.0, max_time=4.0, sigma=10.0, beta=8./3, rho=28.0,zoom=10):\n",
    "    fig = plt.figure()\n",
    "    ax = fig.add_axes([0, 0, 1, 1], projection='3d')\n",
    "    ax.axis('off')\n",
    "\n",
    "    t,x_t = solve_lorenz(N,angle,max_time,sigma,beta,rho)\n",
    "    # prepare the axes limits\n",
    "    ax.set_xlim((-zoom, zoom))\n",
    "    ax.set_ylim((-zoom, zoom))\n",
    "    ax.set_zlim((-zoom, zoom))\n",
    "    \n",
    "    # choose a different color for each trajectory\n",
    "    colors = plt.cm.viridis(np.linspace(0, 1, N))\n",
    "\n",
    "    for i in range(N):\n",
    "        x, y, z = x_t[i,:,:].T\n",
    "        lines = ax.plot(x, y, z, '-', c=colors[i])\n",
    "        plt.setp(lines, linewidth=2)\n",
    "\n",
    "    ax.view_init(30, angle)\n",
    "    plt.show()\n",
    "    \n",
    "    return t,x_t"
   ]
  },
  {
   "cell_type": "markdown",
   "metadata": {},
   "source": [
    "<a id='choose_coeffs'></a>\n",
    "## Choosing our ground-truth model\n",
    "\n",
    "We're going to use an interactive widget to set up a Lorenz system with coefficients that we choose.\n",
    "This wil then generate a dataset that we'll then use SINDy to try to 'reverse-engineer' the dynamics that generated it."
   ]
  },
  {
   "cell_type": "code",
   "execution_count": 201,
   "metadata": {},
   "outputs": [
    {
     "data": {
      "application/vnd.jupyter.widget-view+json": {
       "model_id": "1a658f9faef647699ddd5c2f73aa1dfa",
       "version_major": 2,
       "version_minor": 0
      },
      "text/plain": [
       "interactive(children=(FloatSlider(value=0.0, description='angle', max=360.0), FloatSlider(value=2.0, descripti…"
      ]
     },
     "metadata": {},
     "output_type": "display_data"
    }
   ],
   "source": [
    "w = interactive(plot_lorenz, angle=(0.,360.), max_time=fixed(10.0), \n",
    "                N=fixed(10), sigma=(-2.0,2.0), rho=(-2.0,2.0),beta=(-2.0,2.0))\n",
    "display(w)\n",
    "sigma = w.children[1].value\n",
    "beta = w.children[2].value\n",
    "rho = w.children[3].value"
   ]
  },
  {
   "cell_type": "markdown",
   "metadata": {},
   "source": [
    "So we've got a Lorenz system with the parameters we've decided to set in the sliders.\n",
    "Let's see what individual dimensions look like:"
   ]
  },
  {
   "cell_type": "code",
   "execution_count": 202,
   "metadata": {
    "jupyter": {
     "source_hidden": true
    }
   },
   "outputs": [
    {
     "data": {
      "text/plain": [
       "<matplotlib.legend.Legend at 0x7f9cc5e14460>"
      ]
     },
     "execution_count": 202,
     "metadata": {},
     "output_type": "execute_result"
    },
    {
     "data": {
      "image/png": "[encoded data removed]",
      "text/plain": [
       "<Figure size 432x288 with 1 Axes>"
      ]
     },
     "metadata": {
      "needs_background": "light"
     },
     "output_type": "display_data"
    }
   ],
   "source": [
    "t = w.result[0]\n",
    "x_t = w.result[1]\n",
    "plt.figure()\n",
    "plt.plot(t,x_t[0,:,0],label='x')\n",
    "plt.plot(t,x_t[0,:,1],label='y')\n",
    "plt.plot(t,x_t[0,:,2],label='z')\n",
    "plt.legend()"
   ]
  },
  {
   "cell_type": "markdown",
   "metadata": {},
   "source": [
    "# Enter SINDy-based inference\n",
    "What we ended with in the previous section was a *timeseries*, or a signal that changes over time.\n",
    "Think of this like an EEG, an LFP, or even a spike train.\n",
    "Our goal is to go from these squigles to a deeper understanding of what's happening in the brain, like 'action potentials' or 'reduced synaptic input'.\n",
    "\n",
    "This is where SINDy is going to be a powerful tool.\n",
    "What SINDy does is it takes the sets of 'what's happening in our brain' and tries to see how much each of those things make sense given the timeseries we see.\n",
    "It then tells us \"how much\" each of the 'what's happening in our brain' seems to be in our data and builds a model that tries to match it."
   ]
  },
  {
   "cell_type": "code",
   "execution_count": 203,
   "metadata": {
    "jupyter": {
     "source_hidden": true
    }
   },
   "outputs": [],
   "source": [
    "def lorenz(z, t):\n",
    "    return [\n",
    "        sigma * (z[1] - z[0]),\n",
    "        z[0] * (rho - z[2]) - z[1],\n",
    "        z[0] * z[1] - beta * z[2]\n",
    "    ]"
   ]
  },
  {
   "cell_type": "code",
   "execution_count": 204,
   "metadata": {},
   "outputs": [],
   "source": [
    "dt = .002\n",
    "\n",
    "t_train = np.arange(0, 10, dt)\n",
    "x0_train = [-8, 8, 27]\n",
    "x_train = odeint(lorenz, x0_train, t_train)"
   ]
  },
  {
   "cell_type": "code",
   "execution_count": 205,
   "metadata": {},
   "outputs": [
    {
     "name": "stdout",
     "output_type": "stream",
     "text": [
      "x0' = -2.000 x0 + 2.000 x1\n",
      "x1' = 2.000 x0 + -1.000 x1 + -1.000 x0 x2\n",
      "x2' = -2.000 x2 + 1.000 x0 x1\n"
     ]
    },
    {
     "data": {
      "image/png": "[encoded data removed]",
      "text/plain": [
       "<Figure size 432x288 with 1 Axes>"
      ]
     },
     "metadata": {
      "needs_background": "light"
     },
     "output_type": "display_data"
    }
   ],
   "source": [
    "plt.figure()\n",
    "plt.plot(x_train,color='blue')\n",
    "\n",
    "model = ps.SINDy()\n",
    "model.fit(x_train, t=dt)\n",
    "model.print()"
   ]
  },
  {
   "cell_type": "markdown",
   "metadata": {},
   "source": [
    "## Effects of noise\n",
    "Finally, we'll explore the impact that noise can have on SINDy's performance."
   ]
  },
  {
   "cell_type": "code",
   "execution_count": 206,
   "metadata": {},
   "outputs": [
    {
     "data": {
      "application/vnd.jupyter.widget-view+json": {
       "model_id": "69cb2512196b493bb7ba66fd736cfdec",
       "version_major": 2,
       "version_minor": 0
      },
      "text/plain": [
       "interactive(children=(FloatSlider(value=0.5, description='noise_level', max=1.0, step=0.001), Output()), _dom_…"
      ]
     },
     "metadata": {},
     "output_type": "display_data"
    }
   ],
   "source": [
    "def noise_exercise(noise_level):\n",
    "    x_train_noise = x_train + np.random.normal(0,noise_level,size=x_train.shape)\n",
    "    \n",
    "    plt.figure()\n",
    "    plt.plot(x_train_noise,alpha=0.7,color='red')\n",
    "    plt.plot(x_train,color='blue',alpha=0.3)\n",
    "    \n",
    "    model = ps.SINDy()\n",
    "    model.fit(x_train_noise, t=dt)\n",
    "    model.print()\n",
    "\n",
    "noise_widg = interactive(noise_exercise,noise_level=(0.0,1,0.001))\n",
    "display(noise_widg)"
   ]
  },
  {
   "cell_type": "markdown",
   "metadata": {},
   "source": [
    "Unfortunately, it looks like it's very, very sensitive to noise.\n",
    "But hey, still cool."
   ]
  }
 ],
 "metadata": {
  "kernelspec": {
   "display_name": "Python 3",
   "language": "python",
   "name": "python3"
  },
  "language_info": {
   "codemirror_mode": {
    "name": "ipython",
    "version": 3
   },
   "file_extension": ".py",
   "mimetype": "text/x-python",
   "name": "python",
   "nbconvert_exporter": "python",
   "pygments_lexer": "ipython3",
   "version": "3.8.3"
  },
  "toc": {
   "base_numbering": 1,
   "nav_menu": {},
   "number_sections": true,
   "sideBar": true,
   "skip_h1_title": false,
   "title_cell": "Table of Contents",
   "title_sidebar": "Contents",
   "toc_cell": false,
   "toc_position": {},
   "toc_section_display": true,
   "toc_window_display": false
  },
  "varInspector": {
   "cols": {
    "lenName": 16,
    "lenType": 16,
    "lenVar": 40
   },
   "kernels_config": {
    "python": {
     "delete_cmd_postfix": "",
     "delete_cmd_prefix": "del ",
     "library": "var_list.py",
     "varRefreshCmd": "print(var_dic_list())"
    },
    "r": {
     "delete_cmd_postfix": ") ",
     "delete_cmd_prefix": "rm(",
     "library": "var_list.r",
     "varRefreshCmd": "cat(var_dic_list()) "
    }
   },
   "types_to_exclude": [
    "module",
    "function",
    "builtin_function_or_method",
    "instance",
    "_Feature"
   ],
   "window_display": false
  }
 },
 "nbformat": 4,
 "nbformat_minor": 4
}
